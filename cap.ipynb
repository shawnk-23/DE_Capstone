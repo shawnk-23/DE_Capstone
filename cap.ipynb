{
 "cells": [
  {
   "cell_type": "code",
   "execution_count": 1,
   "metadata": {},
   "outputs": [
    {
     "name": "stderr",
     "output_type": "stream",
     "text": [
      "23/10/15 01:57:12 WARN Utils: Your hostname, Shawn-2.local resolves to a loopback address: 127.0.0.1; using 192.168.4.55 instead (on interface en0)\n",
      "23/10/15 01:57:12 WARN Utils: Set SPARK_LOCAL_IP if you need to bind to another address\n",
      "23/10/15 01:57:12 WARN NativeCodeLoader: Unable to load native-hadoop library for your platform... using builtin-java classes where applicable\n",
      "Setting default log level to \"WARN\".\n",
      "To adjust logging level use sc.setLogLevel(newLevel). For SparkR, use setLogLevel(newLevel).\n"
     ]
    }
   ],
   "source": [
    "from pyspark.sql import SparkSession\n",
    "import findspark\n",
    "findspark.init()\n",
    "\n",
    "\n",
    "jar_location = 'mysql-connector-java-8.0.23.jar'\n",
    "spark = SparkSession.builder \\\n",
    "    .appName(\"mysql_connect\") \\\n",
    "    .config(\"spark.jars\", jar_location) \\\n",
    "    .getOrCreate()\n"
   ]
  },
  {
   "cell_type": "code",
   "execution_count": 2,
   "metadata": {},
   "outputs": [
    {
     "name": "stderr",
     "output_type": "stream",
     "text": [
      "23/10/15 01:57:26 WARN GarbageCollectionMetrics: To enable non-built-in garbage collector(s) List(G1 Concurrent GC), users should configure it(them) to spark.eventLog.gcMetrics.youngGenerationGarbageCollectors or spark.eventLog.gcMetrics.oldGenerationGarbageCollectors\n",
      "                                                                                \r"
     ]
    },
    {
     "name": "stdout",
     "output_type": "stream",
     "text": [
      "+-----------------+-----------+------------+------------+------------+-----------------+----------+--------------------+\n",
      "|      BRANCH_CITY|BRANCH_CODE| BRANCH_NAME|BRANCH_PHONE|BRANCH_STATE|    BRANCH_STREET|BRANCH_ZIP|        LAST_UPDATED|\n",
      "+-----------------+-----------+------------+------------+------------+-----------------+----------+--------------------+\n",
      "|        Lakeville|          1|Example Bank|  1234565276|          MN|     Bridle Court|     55044|2018-04-18T16:51:...|\n",
      "|          Huntley|          2|Example Bank|  1234618993|          IL|Washington Street|     60142|2018-04-18T16:51:...|\n",
      "|SouthRichmondHill|          3|Example Bank|  1234985926|          NY|    Warren Street|     11419|2018-04-18T16:51:...|\n",
      "|       Middleburg|          4|Example Bank|  1234663064|          FL| Cleveland Street|     32068|2018-04-18T16:51:...|\n",
      "|    KingOfPrussia|          5|Example Bank|  1234849701|          PA|      14th Street|     19406|2018-04-18T16:51:...|\n",
      "+-----------------+-----------+------------+------------+------------+-----------------+----------+--------------------+\n",
      "only showing top 5 rows\n",
      "\n"
     ]
    }
   ],
   "source": [
    "branch = spark.read.json('cdw_sapp_branch.json')\n",
    "branch.show(5)"
   ]
  },
  {
   "cell_type": "code",
   "execution_count": 3,
   "metadata": {},
   "outputs": [
    {
     "name": "stderr",
     "output_type": "stream",
     "text": [
      "                                                                                \r"
     ]
    },
    {
     "name": "stdout",
     "output_type": "stream",
     "text": [
      "+-----------+----------------+---------+---+-----+--------------+----------------+-----------------+----+\n",
      "|BRANCH_CODE|  CREDIT_CARD_NO| CUST_SSN|DAY|MONTH|TRANSACTION_ID|TRANSACTION_TYPE|TRANSACTION_VALUE|YEAR|\n",
      "+-----------+----------------+---------+---+-----+--------------+----------------+-----------------+----+\n",
      "|        114|4210653349028689|123459988| 14|    2|             1|       Education|             78.9|2018|\n",
      "|         35|4210653349028689|123459988| 20|    3|             2|   Entertainment|            14.24|2018|\n",
      "|        160|4210653349028689|123459988|  8|    7|             3|         Grocery|             56.7|2018|\n",
      "|        114|4210653349028689|123459988| 19|    4|             4|   Entertainment|            59.73|2018|\n",
      "|         93|4210653349028689|123459988| 10|   10|             5|             Gas|             3.59|2018|\n",
      "+-----------+----------------+---------+---+-----+--------------+----------------+-----------------+----+\n",
      "only showing top 5 rows\n",
      "\n"
     ]
    }
   ],
   "source": [
    "credit = spark.read.json('cdw_sapp_credit.json')\n",
    "credit.show(5)"
   ]
  },
  {
   "cell_type": "code",
   "execution_count": 4,
   "metadata": {},
   "outputs": [
    {
     "name": "stdout",
     "output_type": "stream",
     "text": [
      "+------+----------------+------------+-------------+-------------------+----------+----------+--------+----------+---------+--------------------+-----------+---------+-----------------+\n",
      "|APT_NO|  CREDIT_CARD_NO|   CUST_CITY| CUST_COUNTRY|         CUST_EMAIL|CUST_PHONE|CUST_STATE|CUST_ZIP|FIRST_NAME|LAST_NAME|        LAST_UPDATED|MIDDLE_NAME|      SSN|      STREET_NAME|\n",
      "+------+----------------+------------+-------------+-------------------+----------+----------+--------+----------+---------+--------------------+-----------+---------+-----------------+\n",
      "|   656|4210653310061055|     Natchez|United States|AHooper@example.com|   1237818|        MS|   39120|      Alec|   Hooper|2018-04-21T12:49:...|         Wm|123456100|Main Street North|\n",
      "|   829|4210653310102868|Wethersfield|United States|EHolman@example.com|   1238933|        CT|   06109|      Etta|   Holman|2018-04-21T12:49:...|    Brendan|123453023|    Redwood Drive|\n",
      "|   683|4210653310116272|     Huntley|United States|WDunham@example.com|   1243018|        IL|   60142|    Wilber|   Dunham|2018-04-21T12:49:...|   Ezequiel|123454487| 12th Street East|\n",
      "|   253|4210653310195948|   NewBerlin|United States| EHardy@example.com|   1243215|        WI|   53151|   Eugenio|    Hardy|2018-04-21T12:49:...|      Trina|123459758|Country Club Road|\n",
      "|   301|4210653310356919|      ElPaso|United States| WAyers@example.com|   1242074|        TX|   79930|   Wilfred|    Ayers|2018-04-21T12:49:...|        May|123454431|   Madison Street|\n",
      "+------+----------------+------------+-------------+-------------------+----------+----------+--------+----------+---------+--------------------+-----------+---------+-----------------+\n",
      "only showing top 5 rows\n",
      "\n"
     ]
    }
   ],
   "source": [
    "customer = spark.read.json('cdw_sapp_custmer.json')\n",
    "customer.show(5)"
   ]
  },
  {
   "cell_type": "code",
   "execution_count": 5,
   "metadata": {},
   "outputs": [
    {
     "data": {
      "text/plain": [
       "['APT_NO',\n",
       " 'CREDIT_CARD_NO',\n",
       " 'CUST_CITY',\n",
       " 'CUST_COUNTRY',\n",
       " 'CUST_EMAIL',\n",
       " 'CUST_PHONE',\n",
       " 'CUST_STATE',\n",
       " 'CUST_ZIP',\n",
       " 'FIRST_NAME',\n",
       " 'LAST_NAME',\n",
       " 'LAST_UPDATED',\n",
       " 'MIDDLE_NAME',\n",
       " 'SSN',\n",
       " 'STREET_NAME']"
      ]
     },
     "execution_count": 5,
     "metadata": {},
     "output_type": "execute_result"
    }
   ],
   "source": [
    "customer.columns"
   ]
  },
  {
   "cell_type": "code",
   "execution_count": 6,
   "metadata": {},
   "outputs": [
    {
     "name": "stdout",
     "output_type": "stream",
     "text": [
      "root\n",
      " |-- BRANCH_CITY: string (nullable = true)\n",
      " |-- BRANCH_CODE: long (nullable = true)\n",
      " |-- BRANCH_NAME: string (nullable = true)\n",
      " |-- BRANCH_PHONE: string (nullable = true)\n",
      " |-- BRANCH_STATE: string (nullable = true)\n",
      " |-- BRANCH_STREET: string (nullable = true)\n",
      " |-- BRANCH_ZIP: long (nullable = true)\n",
      " |-- LAST_UPDATED: string (nullable = true)\n",
      "\n"
     ]
    }
   ],
   "source": [
    "branch.printSchema()"
   ]
  },
  {
   "cell_type": "code",
   "execution_count": 7,
   "metadata": {},
   "outputs": [
    {
     "name": "stderr",
     "output_type": "stream",
     "text": [
      "23/10/15 01:57:33 WARN SparkStringUtils: Truncated the string representation of a plan since it was too large. This behavior can be adjusted by setting 'spark.sql.debug.maxToStringFields'.\n",
      "[Stage 8:>                                                          (0 + 1) / 1]\r"
     ]
    },
    {
     "name": "stdout",
     "output_type": "stream",
     "text": [
      "+-------+------------------+--------------------+-------------------+-----------------+------------------+------------------+----------------+------------------+--------------------+\n",
      "|summary|       BRANCH_CODE|      CREDIT_CARD_NO|           CUST_SSN|              DAY|             MONTH|    TRANSACTION_ID|TRANSACTION_TYPE| TRANSACTION_VALUE|                YEAR|\n",
      "+-------+------------------+--------------------+-------------------+-----------------+------------------+------------------+----------------+------------------+--------------------+\n",
      "|  count|             46694|               46694|              46694|            46694|             46694|             46694|           46694|             46694|               46694|\n",
      "|   mean| 75.00057823274939|4.210653353368964E15|1.234555184812824E8|14.50736711354778| 6.516875829871076|           23347.5|            NULL| 51.03938214759932|              2018.0|\n",
      "| stddev|51.389074910957895|2.5604641248039957E7| 2561.2609103365367|8.066305022516385|3.4535079421269828|13479.541071564714|            NULL|28.783264046884938|1.19216201391582E-13|\n",
      "|    min|                 1|    4210653310061055|          123451007|                1|                 1|                 1|           Bills|              1.01|                2018|\n",
      "|    max|               192|    4210653399939240|          123459988|               28|                12|             46694|            Test|            100.99|                2018|\n",
      "+-------+------------------+--------------------+-------------------+-----------------+------------------+------------------+----------------+------------------+--------------------+\n",
      "\n"
     ]
    },
    {
     "name": "stderr",
     "output_type": "stream",
     "text": [
      "                                                                                \r"
     ]
    }
   ],
   "source": [
    "credit.describe().show()"
   ]
  },
  {
   "cell_type": "code",
   "execution_count": 8,
   "metadata": {},
   "outputs": [
    {
     "name": "stdout",
     "output_type": "stream",
     "text": [
      "+-----------+----------------+---------+---+-----+--------------+----------------+-----------------+----+\n",
      "|BRANCH_CODE|  CREDIT_CARD_NO| CUST_SSN|DAY|MONTH|TRANSACTION_ID|TRANSACTION_TYPE|TRANSACTION_VALUE|YEAR|\n",
      "+-----------+----------------+---------+---+-----+--------------+----------------+-----------------+----+\n",
      "|        114|4210653349028689|123459988| 14|    2|             1|       Education|             78.9|2018|\n",
      "|         35|4210653349028689|123459988| 20|    3|             2|   Entertainment|            14.24|2018|\n",
      "|        160|4210653349028689|123459988|  8|    7|             3|         Grocery|             56.7|2018|\n",
      "|        114|4210653349028689|123459988| 19|    4|             4|   Entertainment|            59.73|2018|\n",
      "|         93|4210653349028689|123459988| 10|   10|             5|             Gas|             3.59|2018|\n",
      "|        164|4210653349028689|123459988| 28|    5|             6|       Education|             6.89|2018|\n",
      "|        119|4210653349028689|123459988| 19|    5|             7|   Entertainment|            43.39|2018|\n",
      "|         23|4210653349028689|123459988|  8|    8|             8|             Gas|            95.39|2018|\n",
      "|        166|4210653349028689|123459988| 18|    3|             9|   Entertainment|            93.26|2018|\n",
      "|         83|4210653349028689|123459988|  3|    9|            10|           Bills|           100.38|2018|\n",
      "|         52|4210653349028689|123459988| 21|    8|            11|             Gas|            98.75|2018|\n",
      "|         17|4210653349028689|123459988| 24|   12|            12|             Gas|            42.71|2018|\n",
      "|         80|4210653349028689|123459988|  3|    4|            13|         Grocery|            40.24|2018|\n",
      "|         50|4210653349028689|123459988| 15|    4|            14|           Bills|            17.81|2018|\n",
      "|        123|4210653349028689|123459988| 17|    5|            15|           Bills|             29.0|2018|\n",
      "|          9|4210653349028689|123459988|  6|    7|            16|            Test|            70.63|2018|\n",
      "|          3|4210653349028689|123459988| 28|    9|            17|            Test|            27.04|2018|\n",
      "|        135|4210653349028689|123459988|  4|    7|            18|   Entertainment|            88.75|2018|\n",
      "|        103|4210653349028689|123459988| 24|    4|            19|            Test|            77.02|2018|\n",
      "|         78|4210653349028689|123459988|  8|   10|            20|           Bills|            34.34|2018|\n",
      "+-----------+----------------+---------+---+-----+--------------+----------------+-----------------+----+\n",
      "only showing top 20 rows\n",
      "\n"
     ]
    }
   ],
   "source": [
    "credit.show()"
   ]
  },
  {
   "cell_type": "code",
   "execution_count": 9,
   "metadata": {},
   "outputs": [
    {
     "name": "stdout",
     "output_type": "stream",
     "text": [
      "root\n",
      " |-- APT_NO: string (nullable = true)\n",
      " |-- CREDIT_CARD_NO: string (nullable = true)\n",
      " |-- CUST_CITY: string (nullable = true)\n",
      " |-- CUST_COUNTRY: string (nullable = true)\n",
      " |-- CUST_EMAIL: string (nullable = true)\n",
      " |-- CUST_PHONE: long (nullable = true)\n",
      " |-- CUST_STATE: string (nullable = true)\n",
      " |-- CUST_ZIP: string (nullable = true)\n",
      " |-- FIRST_NAME: string (nullable = true)\n",
      " |-- LAST_NAME: string (nullable = true)\n",
      " |-- LAST_UPDATED: string (nullable = true)\n",
      " |-- MIDDLE_NAME: string (nullable = true)\n",
      " |-- SSN: long (nullable = true)\n",
      " |-- STREET_NAME: string (nullable = true)\n",
      "\n"
     ]
    }
   ],
   "source": [
    "customer.printSchema()"
   ]
  },
  {
   "cell_type": "code",
   "execution_count": 10,
   "metadata": {},
   "outputs": [
    {
     "name": "stdout",
     "output_type": "stream",
     "text": [
      "+------+----------------+------------+-------------+--------------------+----------+----------+--------+----------+---------+--------------------+-----------+---------+-----------------+\n",
      "|APT_NO|  CREDIT_CARD_NO|   CUST_CITY| CUST_COUNTRY|          CUST_EMAIL|CUST_PHONE|CUST_STATE|CUST_ZIP|FIRST_NAME|LAST_NAME|        LAST_UPDATED|MIDDLE_NAME|      SSN|      STREET_NAME|\n",
      "+------+----------------+------------+-------------+--------------------+----------+----------+--------+----------+---------+--------------------+-----------+---------+-----------------+\n",
      "|   656|4210653310061055|     Natchez|United States| AHooper@example.com|   1237818|        MS|   39120|      Alec|   Hooper|2018-04-21T12:49:...|         Wm|123456100|Main Street North|\n",
      "|   829|4210653310102868|Wethersfield|United States| EHolman@example.com|   1238933|        CT|   06109|      Etta|   Holman|2018-04-21T12:49:...|    Brendan|123453023|    Redwood Drive|\n",
      "|   683|4210653310116272|     Huntley|United States| WDunham@example.com|   1243018|        IL|   60142|    Wilber|   Dunham|2018-04-21T12:49:...|   Ezequiel|123454487| 12th Street East|\n",
      "|   253|4210653310195948|   NewBerlin|United States|  EHardy@example.com|   1243215|        WI|   53151|   Eugenio|    Hardy|2018-04-21T12:49:...|      Trina|123459758|Country Club Road|\n",
      "|   301|4210653310356919|      ElPaso|United States|  WAyers@example.com|   1242074|        TX|   79930|   Wilfred|    Ayers|2018-04-21T12:49:...|        May|123454431|   Madison Street|\n",
      "|     3|4210653310395982|NorthOlmsted|United States|BWoodard@example.com|   1242570|        OH|   44070|      Beau|  Woodard|2018-04-21T12:49:...|    Ambrose|123454202|   Colonial Drive|\n",
      "|    84|4210653310400536|      Vienna|United States|   SKemp@example.com|   1239685|        VA|   22180|    Sheila|     Kemp|2018-04-21T12:49:...|      Larry|123451799|   Belmont Avenue|\n",
      "|   728|4210653310459911|      Duarte|United States| WHurley@example.com|   1238213|        CA|   91010|     Wendy|   Hurley|2018-04-21T12:49:...|        Ora|123453875|     Oxford Court|\n",
      "|    81|4210653310773972|      Owosso|United States|AGilmore@example.com|   1240689|        MI|   48867|      Alec|  Gilmore|2018-04-21T12:49:...|     Tracie|123457511|    Forest Street|\n",
      "|   561|4210653310794854|        Zion|United States|    BLau@example.com|   1235222|        IL|   60099|    Barbra|      Lau|2018-04-21T12:49:...|    Mitchel|123457464|     Court Street|\n",
      "|   622|4210653310817373|  Youngstown|United States|EThomson@example.com|   1241363|        OH|   44512|   Edmundo|  Thomson|2018-04-21T12:49:...|      Denny|123457639|    Cypress Court|\n",
      "|   924|4210653310844617| Summerville|United States| ETruong@example.com|   1236228|        SC|   29483|      Elsa|   Truong|2018-04-21T12:49:...|   Isabelle|123453242|  8th Street West|\n",
      "|   611|4210653311015303|      ElPaso|United States|HMckinney@example...|   1238165|        TX|   79930|     Homer| Mckinney|2018-04-21T12:49:...|      Henry|123454339|      East Avenue|\n",
      "|   680|4210653311215039|      Fenton|United States|   RKidd@example.com|   1234730|        MI|   48430|      Rita|     Kidd|2018-04-21T12:49:...|     Rickey|123454537|         Route 44|\n",
      "|    71|4210653311229354|  Grandville|United States|ABallard@example.com|   1242113|        MI|   49418|    Amalia|  Ballard|2018-04-21T12:49:...|  Heriberto|123452373|    Warren Street|\n",
      "|   195|4210653311652836|    YubaCity|United States| PThomas@example.com|   1239888|        CA|   95993|     Patty|   Thomas|2018-04-21T12:49:...|   Angelita|123455343|     Jones Street|\n",
      "|   500|4210653311707126|   CapeCoral|United States| JMorrow@example.com|   1240158|        FL|   33904|  Josefina|   Morrow|2018-04-21T12:49:...|   Dorothea|123451533|       New Street|\n",
      "|   989|4210653311730764|  Brookfield|United States|NAndrews@example.com|   1241408|        WI|   53045|    Nelson|  Andrews|2018-04-21T12:49:...|  Jefferson|123459278|  Division Street|\n",
      "|   810|4210653311898082|    Richmond|United States|MSchneider@exampl...|   1238390|        VA|   23223|    Miquel|Schneider|2018-04-21T12:49:...|     Maximo|123456915|     Maple Street|\n",
      "|   649|4210653312021765| WestChester|United States|PTidwell@example.com|   1235067|        PA|   19380|    Parker|  Tidwell|2018-04-21T12:49:...|    Arnulfo|123453807|       Eagle Road|\n",
      "+------+----------------+------------+-------------+--------------------+----------+----------+--------+----------+---------+--------------------+-----------+---------+-----------------+\n",
      "only showing top 20 rows\n",
      "\n"
     ]
    }
   ],
   "source": [
    "customer.show()"
   ]
  },
  {
   "cell_type": "code",
   "execution_count": 11,
   "metadata": {},
   "outputs": [
    {
     "name": "stdout",
     "output_type": "stream",
     "text": [
      "+----------------+------------+-------------+--------------------+-------------+----------+--------+----------+---------+-------------------+-----------+---------+--------------------+\n",
      "|  CREDIT_CARD_NO|   CUST_CITY| CUST_COUNTRY|          CUST_EMAIL|   CUST_PHONE|CUST_STATE|CUST_ZIP|FIRST_NAME|LAST_NAME|       LAST_UPDATED|MIDDLE_NAME|      SSN| FULL_STREET_ADDRESS|\n",
      "+----------------+------------+-------------+--------------------+-------------+----------+--------+----------+---------+-------------------+-----------+---------+--------------------+\n",
      "|4210653310061055|     Natchez|United States| AHooper@example.com|(111)123-7818|        MS|   39120|      Alec|   Hooper|2018-04-21 09:49:02|         wm|123456100|656,Main Street N...|\n",
      "|4210653310102868|Wethersfield|United States| EHolman@example.com|(111)123-8933|        CT|    6109|      Etta|   Holman|2018-04-21 09:49:02|    brendan|123453023|   829,Redwood Drive|\n",
      "|4210653310116272|     Huntley|United States| WDunham@example.com|(111)124-3018|        IL|   60142|    Wilber|   Dunham|2018-04-21 09:49:02|   ezequiel|123454487|683,12th Street East|\n",
      "|4210653310195948|   NewBerlin|United States|  EHardy@example.com|(111)124-3215|        WI|   53151|   Eugenio|    Hardy|2018-04-21 09:49:02|      trina|123459758|253,Country Club ...|\n",
      "|4210653310356919|      ElPaso|United States|  WAyers@example.com|(111)124-2074|        TX|   79930|   Wilfred|    Ayers|2018-04-21 09:49:02|        may|123454431|  301,Madison Street|\n",
      "|4210653310395982|NorthOlmsted|United States|BWoodard@example.com|(111)124-2570|        OH|   44070|      Beau|  Woodard|2018-04-21 09:49:02|    ambrose|123454202|    3,Colonial Drive|\n",
      "|4210653310400536|      Vienna|United States|   SKemp@example.com|(111)123-9685|        VA|   22180|    Sheila|     Kemp|2018-04-21 09:49:02|      larry|123451799|   84,Belmont Avenue|\n",
      "|4210653310459911|      Duarte|United States| WHurley@example.com|(111)123-8213|        CA|   91010|     Wendy|   Hurley|2018-04-21 09:49:02|        ora|123453875|    728,Oxford Court|\n",
      "|4210653310773972|      Owosso|United States|AGilmore@example.com|(111)124-0689|        MI|   48867|      Alec|  Gilmore|2018-04-21 09:49:02|     tracie|123457511|    81,Forest Street|\n",
      "|4210653310794854|        Zion|United States|    BLau@example.com|(111)123-5222|        IL|   60099|    Barbra|      Lau|2018-04-21 09:49:02|    mitchel|123457464|    561,Court Street|\n",
      "|4210653310817373|  Youngstown|United States|EThomson@example.com|(111)124-1363|        OH|   44512|   Edmundo|  Thomson|2018-04-21 09:49:02|      denny|123457639|   622,Cypress Court|\n",
      "|4210653310844617| Summerville|United States| ETruong@example.com|(111)123-6228|        SC|   29483|      Elsa|   Truong|2018-04-21 09:49:02|   isabelle|123453242| 924,8th Street West|\n",
      "|4210653311015303|      ElPaso|United States|HMckinney@example...|(111)123-8165|        TX|   79930|     Homer| Mckinney|2018-04-21 09:49:02|      henry|123454339|     611,East Avenue|\n",
      "|4210653311215039|      Fenton|United States|   RKidd@example.com|(111)123-4730|        MI|   48430|      Rita|     Kidd|2018-04-21 09:49:02|     rickey|123454537|        680,Route 44|\n",
      "|4210653311229354|  Grandville|United States|ABallard@example.com|(111)124-2113|        MI|   49418|    Amalia|  Ballard|2018-04-21 09:49:02|  heriberto|123452373|    71,Warren Street|\n",
      "|4210653311652836|    YubaCity|United States| PThomas@example.com|(111)123-9888|        CA|   95993|     Patty|   Thomas|2018-04-21 09:49:02|   angelita|123455343|    195,Jones Street|\n",
      "|4210653311707126|   CapeCoral|United States| JMorrow@example.com|(111)124-0158|        FL|   33904|  Josefina|   Morrow|2018-04-21 09:49:02|   dorothea|123451533|      500,New Street|\n",
      "|4210653311730764|  Brookfield|United States|NAndrews@example.com|(111)124-1408|        WI|   53045|    Nelson|  Andrews|2018-04-21 09:49:02|  jefferson|123459278| 989,Division Street|\n",
      "|4210653311898082|    Richmond|United States|MSchneider@exampl...|(111)123-8390|        VA|   23223|    Miquel|Schneider|2018-04-21 09:49:02|     maximo|123456915|    810,Maple Street|\n",
      "|4210653312021765| WestChester|United States|PTidwell@example.com|(111)123-5067|        PA|   19380|    Parker|  Tidwell|2018-04-21 09:49:02|    arnulfo|123453807|      649,Eagle Road|\n",
      "+----------------+------------+-------------+--------------------+-------------+----------+--------+----------+---------+-------------------+-----------+---------+--------------------+\n",
      "only showing top 20 rows\n",
      "\n"
     ]
    }
   ],
   "source": [
    "from pyspark.sql.functions import initcap, lit, lower, substring, concat, coalesce, lpad\n",
    "from pyspark.sql.types import IntegerType, TimestampType, DoubleType\n",
    "\n",
    "customer_df = customer.withColumn(\"SSN\", customer[\"SSN\"].cast(IntegerType())) \\\n",
    "                      .withColumn(\"FIRST_NAME\", initcap(customer[\"FIRST_NAME\"])) \\\n",
    "                      .withColumn(\"MIDDLE_NAME\", lower(customer[\"MIDDLE_NAME\"])) \\\n",
    "                      .withColumn(\"LAST_NAME\", initcap(customer[\"LAST_NAME\"])) \\\n",
    "                      .withColumn(\"FULL_STREET_ADDRESS\", concat(customer[\"APT_NO\"], lit(','), customer[\"STREET_NAME\"])) \\\n",
    "                      .withColumn(\"CUST_ZIP\", customer['CUST_ZIP'].cast(IntegerType())) \\\n",
    "                      .withColumn(\"CUST_PHONE\", concat(lit(\"(111)\"), substring(\"CUST_PHONE\", 1, 3), lit(\"-\"), substring(\"CUST_PHONE\", 4,7))) \\\n",
    "                      .withColumn(\"LAST_UPDATED\", customer[\"LAST_UPDATED\"].cast(TimestampType()))\n",
    "\n",
    "customer_df=customer_df.drop('APT_NO','STREET_NAME')\n",
    "customer_df.show()"
   ]
  },
  {
   "cell_type": "code",
   "execution_count": 12,
   "metadata": {},
   "outputs": [
    {
     "name": "stdout",
     "output_type": "stream",
     "text": [
      "root\n",
      " |-- CREDIT_CARD_NO: string (nullable = true)\n",
      " |-- CUST_CITY: string (nullable = true)\n",
      " |-- CUST_COUNTRY: string (nullable = true)\n",
      " |-- CUST_EMAIL: string (nullable = true)\n",
      " |-- CUST_PHONE: string (nullable = true)\n",
      " |-- CUST_STATE: string (nullable = true)\n",
      " |-- CUST_ZIP: integer (nullable = true)\n",
      " |-- FIRST_NAME: string (nullable = true)\n",
      " |-- LAST_NAME: string (nullable = true)\n",
      " |-- LAST_UPDATED: timestamp (nullable = true)\n",
      " |-- MIDDLE_NAME: string (nullable = true)\n",
      " |-- SSN: integer (nullable = true)\n",
      " |-- FULL_STREET_ADDRESS: string (nullable = true)\n",
      "\n"
     ]
    }
   ],
   "source": [
    "customer_df.printSchema()"
   ]
  },
  {
   "cell_type": "code",
   "execution_count": 13,
   "metadata": {},
   "outputs": [
    {
     "name": "stdout",
     "output_type": "stream",
     "text": [
      "root\n",
      " |-- BRANCH_CITY: string (nullable = true)\n",
      " |-- BRANCH_CODE: long (nullable = true)\n",
      " |-- BRANCH_NAME: string (nullable = true)\n",
      " |-- BRANCH_PHONE: string (nullable = true)\n",
      " |-- BRANCH_STATE: string (nullable = true)\n",
      " |-- BRANCH_STREET: string (nullable = true)\n",
      " |-- BRANCH_ZIP: long (nullable = true)\n",
      " |-- LAST_UPDATED: string (nullable = true)\n",
      "\n"
     ]
    }
   ],
   "source": [
    "branch.printSchema()"
   ]
  },
  {
   "cell_type": "code",
   "execution_count": 14,
   "metadata": {},
   "outputs": [
    {
     "name": "stdout",
     "output_type": "stream",
     "text": [
      "+-----------------+-----------+------------+------------+------------+-------------------+----------+--------------------+\n",
      "|      BRANCH_CITY|BRANCH_CODE| BRANCH_NAME|BRANCH_PHONE|BRANCH_STATE|      BRANCH_STREET|BRANCH_ZIP|        LAST_UPDATED|\n",
      "+-----------------+-----------+------------+------------+------------+-------------------+----------+--------------------+\n",
      "|        Lakeville|          1|Example Bank|  1234565276|          MN|       Bridle Court|     55044|2018-04-18T16:51:...|\n",
      "|          Huntley|          2|Example Bank|  1234618993|          IL|  Washington Street|     60142|2018-04-18T16:51:...|\n",
      "|SouthRichmondHill|          3|Example Bank|  1234985926|          NY|      Warren Street|     11419|2018-04-18T16:51:...|\n",
      "|       Middleburg|          4|Example Bank|  1234663064|          FL|   Cleveland Street|     32068|2018-04-18T16:51:...|\n",
      "|    KingOfPrussia|          5|Example Bank|  1234849701|          PA|        14th Street|     19406|2018-04-18T16:51:...|\n",
      "|         Paterson|          7|Example Bank|  1234144890|          NJ|   Jefferson Street|      7501|2018-04-18T16:51:...|\n",
      "|        Pittsford|          8|Example Bank|  1234678272|          NY|           B Street|     14534|2018-04-18T16:51:...|\n",
      "|     Wethersfield|          9|Example Bank|  1234675219|          CT|    Jefferson Court|      6109|2018-04-18T16:51:...|\n",
      "|     NorthOlmsted|         10|Example Bank|  1234145047|          OH|     Cambridge Road|     44070|2018-04-18T16:51:...|\n",
      "|     Hillsborough|         11|Example Bank|  1234366354|          NJ|    3rd Street West|      8844|2018-04-18T16:51:...|\n",
      "|   MadisonHeights|         12|Example Bank|  1234867175|          MI|          Mill Road|     48071|2018-04-18T16:51:...|\n",
      "|           Oviedo|         14|Example Bank|  1234938460|          FL|  Washington Street|     32765|2018-04-18T16:51:...|\n",
      "|    Mechanicsburg|         15|Example Bank|  1234462043|          PA|    Chestnut Street|     17050|2018-04-18T16:51:...|\n",
      "|        Plainview|         16|Example Bank|  1234857525|          NY|       Monroe Drive|     11803|2018-04-18T16:51:...|\n",
      "|          Paducah|         17|Example Bank|  1234546360|          KY|    Railroad Street|     42001|2018-04-18T16:51:...|\n",
      "|     Harleysville|         18|Example Bank|  1234824455|          PA|Church Street South|     19438|2018-04-18T16:51:...|\n",
      "|     SilverSpring|         19|Example Bank|  1234484380|          MD|        King Street|     20901|2018-04-18T16:51:...|\n",
      "|       Burnsville|         20|Example Bank|  1234840138|          MN|   Canterbury Drive|     55337|2018-04-18T16:51:...|\n",
      "|           Tacoma|         21|Example Bank|  1234362433|          WA|         2nd Avenue|     98444|2018-04-18T16:51:...|\n",
      "|         Carlisle|         22|Example Bank|  1234922492|          PA| Front Street South|     17013|2018-04-18T16:51:...|\n",
      "+-----------------+-----------+------------+------------+------------+-------------------+----------+--------------------+\n",
      "only showing top 20 rows\n",
      "\n"
     ]
    }
   ],
   "source": [
    "branch.show()"
   ]
  },
  {
   "cell_type": "code",
   "execution_count": 15,
   "metadata": {},
   "outputs": [
    {
     "name": "stdout",
     "output_type": "stream",
     "text": [
      "root\n",
      " |-- BRANCH_CITY: string (nullable = true)\n",
      " |-- BRANCH_CODE: long (nullable = true)\n",
      " |-- BRANCH_NAME: string (nullable = true)\n",
      " |-- BRANCH_PHONE: string (nullable = true)\n",
      " |-- BRANCH_STATE: string (nullable = true)\n",
      " |-- BRANCH_STREET: string (nullable = true)\n",
      " |-- BRANCH_ZIP: long (nullable = true)\n",
      " |-- LAST_UPDATED: string (nullable = true)\n",
      "\n"
     ]
    }
   ],
   "source": [
    "branch.printSchema()"
   ]
  },
  {
   "cell_type": "code",
   "execution_count": 16,
   "metadata": {},
   "outputs": [
    {
     "name": "stdout",
     "output_type": "stream",
     "text": [
      "+-----------------+-----------+------------+-------------+------------+-------------------+----------+-------------------+\n",
      "|      BRANCH_CITY|BRANCH_CODE| BRANCH_NAME| BRANCH_PHONE|BRANCH_STATE|      BRANCH_STREET|BRANCH_ZIP|       LAST_UPDATED|\n",
      "+-----------------+-----------+------------+-------------+------------+-------------------+----------+-------------------+\n",
      "|        Lakeville|          1|Example Bank|(123)456-5276|          MN|       Bridle Court|     55044|2018-04-18 13:51:47|\n",
      "|          Huntley|          2|Example Bank|(123)461-8993|          IL|  Washington Street|     60142|2018-04-18 13:51:47|\n",
      "|SouthRichmondHill|          3|Example Bank|(123)498-5926|          NY|      Warren Street|     11419|2018-04-18 13:51:47|\n",
      "|       Middleburg|          4|Example Bank|(123)466-3064|          FL|   Cleveland Street|     32068|2018-04-18 13:51:47|\n",
      "|    KingOfPrussia|          5|Example Bank|(123)484-9701|          PA|        14th Street|     19406|2018-04-18 13:51:47|\n",
      "|         Paterson|          7|Example Bank|(123)414-4890|          NJ|   Jefferson Street|      7501|2018-04-18 13:51:47|\n",
      "|        Pittsford|          8|Example Bank|(123)467-8272|          NY|           B Street|     14534|2018-04-18 13:51:47|\n",
      "|     Wethersfield|          9|Example Bank|(123)467-5219|          CT|    Jefferson Court|      6109|2018-04-18 13:51:47|\n",
      "|     NorthOlmsted|         10|Example Bank|(123)414-5047|          OH|     Cambridge Road|     44070|2018-04-18 13:51:47|\n",
      "|     Hillsborough|         11|Example Bank|(123)436-6354|          NJ|    3rd Street West|      8844|2018-04-18 13:51:47|\n",
      "|   MadisonHeights|         12|Example Bank|(123)486-7175|          MI|          Mill Road|     48071|2018-04-18 13:51:47|\n",
      "|           Oviedo|         14|Example Bank|(123)493-8460|          FL|  Washington Street|     32765|2018-04-18 13:51:47|\n",
      "|    Mechanicsburg|         15|Example Bank|(123)446-2043|          PA|    Chestnut Street|     17050|2018-04-18 13:51:47|\n",
      "|        Plainview|         16|Example Bank|(123)485-7525|          NY|       Monroe Drive|     11803|2018-04-18 13:51:47|\n",
      "|          Paducah|         17|Example Bank|(123)454-6360|          KY|    Railroad Street|     42001|2018-04-18 13:51:47|\n",
      "|     Harleysville|         18|Example Bank|(123)482-4455|          PA|Church Street South|     19438|2018-04-18 13:51:47|\n",
      "|     SilverSpring|         19|Example Bank|(123)448-4380|          MD|        King Street|     20901|2018-04-18 13:51:47|\n",
      "|       Burnsville|         20|Example Bank|(123)484-0138|          MN|   Canterbury Drive|     55337|2018-04-18 13:51:47|\n",
      "|           Tacoma|         21|Example Bank|(123)436-2433|          WA|         2nd Avenue|     98444|2018-04-18 13:51:47|\n",
      "|         Carlisle|         22|Example Bank|(123)492-2492|          PA| Front Street South|     17013|2018-04-18 13:51:47|\n",
      "+-----------------+-----------+------------+-------------+------------+-------------------+----------+-------------------+\n",
      "only showing top 20 rows\n",
      "\n"
     ]
    }
   ],
   "source": [
    "branch_df = branch.withColumn(\"BRANCH_CODE\", branch[\"BRANCH_CODE\"].cast(IntegerType())) \\\n",
    "                  .withColumn(\"BRANCH_ZIP\", coalesce(branch[\"BRANCH_ZIP\"].cast(IntegerType()), lit(99999))) \\\n",
    "                  .withColumn(\"BRANCH_PHONE\", concat(lit(\"(\"), substring(\"BRANCH_PHONE\", 1, 3), lit(\")\"), substring(\"BRANCH_PHONE\", 4, 3), lit(\"-\"), substring(\"BRANCH_PHONE\", 7, 4))) \\\n",
    "                  .withColumn(\"LAST_UPDATED\", branch[\"LAST_UPDATED\"].cast(TimestampType()))\n",
    "\n",
    "\n",
    "branch_df.show()"
   ]
  },
  {
   "cell_type": "code",
   "execution_count": 17,
   "metadata": {},
   "outputs": [
    {
     "name": "stdout",
     "output_type": "stream",
     "text": [
      "root\n",
      " |-- BRANCH_CITY: string (nullable = true)\n",
      " |-- BRANCH_CODE: integer (nullable = true)\n",
      " |-- BRANCH_NAME: string (nullable = true)\n",
      " |-- BRANCH_PHONE: string (nullable = true)\n",
      " |-- BRANCH_STATE: string (nullable = true)\n",
      " |-- BRANCH_STREET: string (nullable = true)\n",
      " |-- BRANCH_ZIP: integer (nullable = false)\n",
      " |-- LAST_UPDATED: timestamp (nullable = true)\n",
      "\n"
     ]
    }
   ],
   "source": [
    "branch_df.printSchema()"
   ]
  },
  {
   "cell_type": "code",
   "execution_count": 18,
   "metadata": {},
   "outputs": [
    {
     "name": "stdout",
     "output_type": "stream",
     "text": [
      "+-----------+----------------+---------+---+-----+--------------+----------------+-----------------+----+\n",
      "|BRANCH_CODE|  CREDIT_CARD_NO| CUST_SSN|DAY|MONTH|TRANSACTION_ID|TRANSACTION_TYPE|TRANSACTION_VALUE|YEAR|\n",
      "+-----------+----------------+---------+---+-----+--------------+----------------+-----------------+----+\n",
      "|        114|4210653349028689|123459988| 14|    2|             1|       Education|             78.9|2018|\n",
      "|         35|4210653349028689|123459988| 20|    3|             2|   Entertainment|            14.24|2018|\n",
      "|        160|4210653349028689|123459988|  8|    7|             3|         Grocery|             56.7|2018|\n",
      "|        114|4210653349028689|123459988| 19|    4|             4|   Entertainment|            59.73|2018|\n",
      "|         93|4210653349028689|123459988| 10|   10|             5|             Gas|             3.59|2018|\n",
      "|        164|4210653349028689|123459988| 28|    5|             6|       Education|             6.89|2018|\n",
      "|        119|4210653349028689|123459988| 19|    5|             7|   Entertainment|            43.39|2018|\n",
      "|         23|4210653349028689|123459988|  8|    8|             8|             Gas|            95.39|2018|\n",
      "|        166|4210653349028689|123459988| 18|    3|             9|   Entertainment|            93.26|2018|\n",
      "|         83|4210653349028689|123459988|  3|    9|            10|           Bills|           100.38|2018|\n",
      "|         52|4210653349028689|123459988| 21|    8|            11|             Gas|            98.75|2018|\n",
      "|         17|4210653349028689|123459988| 24|   12|            12|             Gas|            42.71|2018|\n",
      "|         80|4210653349028689|123459988|  3|    4|            13|         Grocery|            40.24|2018|\n",
      "|         50|4210653349028689|123459988| 15|    4|            14|           Bills|            17.81|2018|\n",
      "|        123|4210653349028689|123459988| 17|    5|            15|           Bills|             29.0|2018|\n",
      "|          9|4210653349028689|123459988|  6|    7|            16|            Test|            70.63|2018|\n",
      "|          3|4210653349028689|123459988| 28|    9|            17|            Test|            27.04|2018|\n",
      "|        135|4210653349028689|123459988|  4|    7|            18|   Entertainment|            88.75|2018|\n",
      "|        103|4210653349028689|123459988| 24|    4|            19|            Test|            77.02|2018|\n",
      "|         78|4210653349028689|123459988|  8|   10|            20|           Bills|            34.34|2018|\n",
      "+-----------+----------------+---------+---+-----+--------------+----------------+-----------------+----+\n",
      "only showing top 20 rows\n",
      "\n"
     ]
    }
   ],
   "source": [
    "credit.show()"
   ]
  },
  {
   "cell_type": "code",
   "execution_count": 19,
   "metadata": {},
   "outputs": [
    {
     "name": "stdout",
     "output_type": "stream",
     "text": [
      "root\n",
      " |-- BRANCH_CODE: long (nullable = true)\n",
      " |-- CREDIT_CARD_NO: string (nullable = true)\n",
      " |-- CUST_SSN: long (nullable = true)\n",
      " |-- DAY: long (nullable = true)\n",
      " |-- MONTH: long (nullable = true)\n",
      " |-- TRANSACTION_ID: long (nullable = true)\n",
      " |-- TRANSACTION_TYPE: string (nullable = true)\n",
      " |-- TRANSACTION_VALUE: double (nullable = true)\n",
      " |-- YEAR: long (nullable = true)\n",
      "\n"
     ]
    }
   ],
   "source": [
    "credit.printSchema()"
   ]
  },
  {
   "cell_type": "code",
   "execution_count": 20,
   "metadata": {},
   "outputs": [
    {
     "name": "stdout",
     "output_type": "stream",
     "text": [
      "+-----------+---------+--------------+----------------+-----------------+----------------+--------+\n",
      "|BRANCH_CODE| CUST_SSN|TRANSACTION_ID|TRANSACTION_TYPE|TRANSACTION_VALUE|      CUST_CC_NO|  TIMEID|\n",
      "+-----------+---------+--------------+----------------+-----------------+----------------+--------+\n",
      "|        114|123459988|             1|       Education|             78.9|4210653349028689|20180214|\n",
      "|         35|123459988|             2|   Entertainment|            14.24|4210653349028689|20180320|\n",
      "|        160|123459988|             3|         Grocery|             56.7|4210653349028689|20180708|\n",
      "|        114|123459988|             4|   Entertainment|            59.73|4210653349028689|20180419|\n",
      "|         93|123459988|             5|             Gas|             3.59|4210653349028689|20181010|\n",
      "|        164|123459988|             6|       Education|             6.89|4210653349028689|20180528|\n",
      "|        119|123459988|             7|   Entertainment|            43.39|4210653349028689|20180519|\n",
      "|         23|123459988|             8|             Gas|            95.39|4210653349028689|20180808|\n",
      "|        166|123459988|             9|   Entertainment|            93.26|4210653349028689|20180318|\n",
      "|         83|123459988|            10|           Bills|           100.38|4210653349028689|20180903|\n",
      "|         52|123459988|            11|             Gas|            98.75|4210653349028689|20180821|\n",
      "|         17|123459988|            12|             Gas|            42.71|4210653349028689|20181224|\n",
      "|         80|123459988|            13|         Grocery|            40.24|4210653349028689|20180403|\n",
      "|         50|123459988|            14|           Bills|            17.81|4210653349028689|20180415|\n",
      "|        123|123459988|            15|           Bills|             29.0|4210653349028689|20180517|\n",
      "|          9|123459988|            16|            Test|            70.63|4210653349028689|20180706|\n",
      "|          3|123459988|            17|            Test|            27.04|4210653349028689|20180928|\n",
      "|        135|123459988|            18|   Entertainment|            88.75|4210653349028689|20180704|\n",
      "|        103|123459988|            19|            Test|            77.02|4210653349028689|20180424|\n",
      "|         78|123459988|            20|           Bills|            34.34|4210653349028689|20181008|\n",
      "+-----------+---------+--------------+----------------+-----------------+----------------+--------+\n",
      "only showing top 20 rows\n",
      "\n"
     ]
    }
   ],
   "source": [
    "credit_df = credit.withColumn(\"CUST_CC_NO\", credit[\"CREDIT_CARD_NO\"]) \\\n",
    "                  .withColumn(\"TIMEID\", concat(credit[\"YEAR\"], lpad(credit[\"MONTH\"], 2, \"0\"), lpad(credit[\"DAY\"], 2, \"0\"))) \\\n",
    "                  .withColumn(\"CUST_SSN\", credit[\"CUST_SSN\"].cast(IntegerType())) \\\n",
    "                  .withColumn(\"BRANCH_CODE\", credit[\"BRANCH_CODE\"].cast(IntegerType())) \\\n",
    "                  .withColumn(\"TRANSACTION_VALUE\", credit[\"TRANSACTION_VALUE\"].cast(DoubleType())) \\\n",
    "                  .withColumn(\"TRANSACTION_ID\", credit[\"TRANSACTION_ID\"].cast(IntegerType())) \n",
    "\n",
    "credit_df = credit_df.drop('DAY', 'MONTH', 'YEAR', 'CREDIT_CARD_NO')\n",
    "credit_df.show()\n"
   ]
  },
  {
   "cell_type": "code",
   "execution_count": 21,
   "metadata": {},
   "outputs": [
    {
     "name": "stdout",
     "output_type": "stream",
     "text": [
      "root\n",
      " |-- BRANCH_CODE: integer (nullable = true)\n",
      " |-- CUST_SSN: integer (nullable = true)\n",
      " |-- TRANSACTION_ID: integer (nullable = true)\n",
      " |-- TRANSACTION_TYPE: string (nullable = true)\n",
      " |-- TRANSACTION_VALUE: double (nullable = true)\n",
      " |-- CUST_CC_NO: string (nullable = true)\n",
      " |-- TIMEID: string (nullable = true)\n",
      "\n"
     ]
    }
   ],
   "source": [
    "credit_df.printSchema()"
   ]
  },
  {
   "cell_type": "code",
   "execution_count": 22,
   "metadata": {},
   "outputs": [
    {
     "name": "stderr",
     "output_type": "stream",
     "text": [
      "Loading class `com.mysql.jdbc.Driver'. This is deprecated. The new driver class is `com.mysql.cj.jdbc.Driver'. The driver is automatically registered via the SPI and manual loading of the driver class is generally unnecessary.\n",
      "                                                                                \r"
     ]
    }
   ],
   "source": [
    "# Define db connect params\n",
    "url = \"jdbc:mysql://localhost:3306/creditcard_capstone\"\n",
    "\n",
    "properties = {\n",
    "    \"user\": \"root\",\n",
    "    \"password\": \"password\",\n",
    "    \"driver\": \"com.mysql.jdbc.Driver\"\n",
    "}\n",
    "\n",
    "# Write DF to MySQL\n",
    "branch_df.write.jdbc(url=url, table=\"CDW_SAPP_BRANCH\",\n",
    "                     mode=\"overwrite\", properties=properties)\n",
    "credit_df.write.jdbc(url=url, table=\"CDW_SAPP_CREDIT_CARD\",\n",
    "                     mode=\"overwrite\", properties=properties)\n",
    "customer_df.write.jdbc(url=url, table=\"CDW_SAPP_CUSTOMER\",\n",
    "                     mode=\"overwrite\", properties=properties)\n",
    "\n"
   ]
  },
  {
   "cell_type": "code",
   "execution_count": null,
   "metadata": {},
   "outputs": [],
   "source": [
    "\n"
   ]
  }
 ],
 "metadata": {
  "kernelspec": {
   "display_name": "Python 3",
   "language": "python",
   "name": "python3"
  },
  "language_info": {
   "codemirror_mode": {
    "name": "ipython",
    "version": 3
   },
   "file_extension": ".py",
   "mimetype": "text/x-python",
   "name": "python",
   "nbconvert_exporter": "python",
   "pygments_lexer": "ipython3",
   "version": "3.11.2"
  },
  "orig_nbformat": 4
 },
 "nbformat": 4,
 "nbformat_minor": 2
}
